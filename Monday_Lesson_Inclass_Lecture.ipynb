{
 "cells": [
  {
   "cell_type": "markdown",
   "metadata": {},
   "source": [
    "# Week 2 - Monday Lesson (variable assignment, loops, lists)"
   ]
  },
  {
   "cell_type": "markdown",
   "metadata": {},
   "source": [
    "## Tasks Today"
   ]
  },
  {
   "cell_type": "markdown",
   "metadata": {},
   "source": [
    ":\n",
    "\n",
    "1) Int & Float assignments <br>\n",
    " &nbsp;&nbsp;&nbsp;&nbsp; a) Assigning int <br>\n",
    " &nbsp;&nbsp;&nbsp;&nbsp; b) Assigning float <br>\n",
    " &nbsp;&nbsp;&nbsp;&nbsp; c) Performing Calculations on ints and floats <br>\n",
    " &nbsp;&nbsp;&nbsp;&nbsp;&nbsp;&nbsp;&nbsp;&nbsp; - Addition <br>\n",
    " &nbsp;&nbsp;&nbsp;&nbsp;&nbsp;&nbsp;&nbsp;&nbsp; - Subtraction <br>\n",
    " &nbsp;&nbsp;&nbsp;&nbsp;&nbsp;&nbsp;&nbsp;&nbsp; - Multiplication <br>\n",
    " &nbsp;&nbsp;&nbsp;&nbsp;&nbsp;&nbsp;&nbsp;&nbsp; - Division <br>\n",
    " &nbsp;&nbsp;&nbsp;&nbsp;&nbsp;&nbsp;&nbsp;&nbsp; - Floor Division <br>\n",
    " &nbsp;&nbsp;&nbsp;&nbsp;&nbsp;&nbsp;&nbsp;&nbsp; - Modulo <br>\n",
    " &nbsp;&nbsp;&nbsp;&nbsp;&nbsp;&nbsp;&nbsp;&nbsp; - Exponential <br>\n",
    "2) String Input-Output <br>\n",
    " &nbsp;&nbsp;&nbsp;&nbsp; a) String Assignment <br>\n",
    " &nbsp;&nbsp;&nbsp;&nbsp; b) print() <br>\n",
    " &nbsp;&nbsp;&nbsp;&nbsp; c) String Concatenation <br>\n",
    " &nbsp;&nbsp;&nbsp;&nbsp; d) Escape Characters <br>\n",
    " &nbsp;&nbsp;&nbsp;&nbsp; e) Type Conversion <br>\n",
    " &nbsp;&nbsp;&nbsp;&nbsp; f) format() <br>\n",
    " &nbsp;&nbsp;&nbsp;&nbsp; g) Old Way (python 2) <br>\n",
    "3) <b>In-Class Exercise #1</b> <br>\n",
    "4) Booleans <br>\n",
    "5) If Statements <br>\n",
    " &nbsp;&nbsp;&nbsp;&nbsp; a) syntax <br>\n",
    " &nbsp;&nbsp;&nbsp;&nbsp; b) truth tree <br>\n",
    " &nbsp;&nbsp;&nbsp;&nbsp; c) and/or <br>\n",
    " &nbsp;&nbsp;&nbsp;&nbsp; d) elif <br>\n",
    " &nbsp;&nbsp;&nbsp;&nbsp; 3) else <br>\n",
    "6) <b>In-Class Exercise #2</b> <br>\n",
    "7) Lists <br>\n",
    " &nbsp;&nbsp;&nbsp;&nbsp; a) Declaring Lists <br>\n",
    " &nbsp;&nbsp;&nbsp;&nbsp; b) Indexing a List <br>\n",
    " &nbsp;&nbsp;&nbsp;&nbsp; c) .append() <br>\n",
    " &nbsp;&nbsp;&nbsp;&nbsp; d) .insert() <br>\n",
    " &nbsp;&nbsp;&nbsp;&nbsp; e) .pop() <br>\n",
    " &nbsp;&nbsp;&nbsp;&nbsp; f) .remove() <br>\n",
    " &nbsp;&nbsp;&nbsp;&nbsp; g) del() <br>\n",
    " &nbsp;&nbsp;&nbsp;&nbsp; h) Concatenating Two Lists <br>\n",
    " &nbsp;&nbsp;&nbsp;&nbsp; i) Lists Within Lists <br>\n",
    " &nbsp;&nbsp;&nbsp;&nbsp; j) Looping Through Lists <br>\n",
    "8) For Loops <br>\n",
    " &nbsp;&nbsp;&nbsp;&nbsp; a) Using 'in' keyword <br>\n",
    " &nbsp;&nbsp;&nbsp;&nbsp; b) Continue Statement <br>\n",
    " &nbsp;&nbsp;&nbsp;&nbsp; c) Break Statement <br>\n",
    " &nbsp;&nbsp;&nbsp;&nbsp; d) Pass Statement <br>\n",
    " &nbsp;&nbsp;&nbsp;&nbsp; e) Double For Loops <br>\n",
    "9) While Loops <br>\n",
    " &nbsp;&nbsp;&nbsp;&nbsp; a) Looping 'While True' <br>\n",
    " &nbsp;&nbsp;&nbsp;&nbsp; b) While and For Loops Used Together <br>\n",
    "10) Built-In Functions <br>\n",
    " &nbsp;&nbsp;&nbsp;&nbsp; a) input() <br>\n",
    " &nbsp;&nbsp;&nbsp;&nbsp; b) range() <br>\n",
    " &nbsp;&nbsp;&nbsp;&nbsp; b) len() <br>\n",
    " &nbsp;&nbsp;&nbsp;&nbsp; c) help() <br>\n",
    " &nbsp;&nbsp;&nbsp;&nbsp; d) isinstance() <br>\n",
    "\n"
   ]
  },
  {
   "cell_type": "markdown",
   "metadata": {},
   "source": [
    "### Int & Float Assignments"
   ]
  },
  {
   "cell_type": "markdown",
   "metadata": {},
   "source": [
    "##### Assigning int"
   ]
  },
  {
   "cell_type": "code",
   "execution_count": 369,
   "metadata": {},
   "outputs": [
    {
     "ename": "TypeError",
     "evalue": "'str' object is not callable",
     "output_type": "error",
     "traceback": [
      "\u001b[0;31m---------------------------------------------------------------------------\u001b[0m",
      "\u001b[0;31mTypeError\u001b[0m                                 Traceback (most recent call last)",
      "\u001b[1;32m/Users/kadeejagriffin/Kekembas_137/week2/day1/Monday_Lesson_Inclass_Lecture.ipynb Cell 6\u001b[0m line \u001b[0;36m1\n\u001b[0;32m----> <a href='vscode-notebook-cell:/Users/kadeejagriffin/Kekembas_137/week2/day1/Monday_Lesson_Inclass_Lecture.ipynb#Y236sZmlsZQ%3D%3D?line=0'>1</a>\u001b[0m \u001b[39mprint\u001b[39;49m(\u001b[39m\"\u001b[39;49m\u001b[39mHello World\u001b[39;49m\u001b[39m\"\u001b[39;49m)\n",
      "\u001b[0;31mTypeError\u001b[0m: 'str' object is not callable"
     ]
    }
   ],
   "source": [
    "print(\"Hello World\")"
   ]
  },
  {
   "cell_type": "code",
   "execution_count": null,
   "metadata": {},
   "outputs": [],
   "source": [
    "# Variable_name = value\n",
    "# Pythin Standard Naming Conevetion - all lowercase - snake_case\n",
    "\n",
    "my_number = 5 # Assign the value 5 for the variable my_number\n",
    "\n",
    "print(my_number) # Print the value for my_number variable\n",
    "print(type(my_number)) # Print the datatype for my_number variable"
   ]
  },
  {
   "cell_type": "code",
   "execution_count": null,
   "metadata": {},
   "outputs": [],
   "source": [
    "another_number = 123\n",
    "\n",
    "print(another_number)\n",
    "print(type(another_number))"
   ]
  },
  {
   "cell_type": "markdown",
   "metadata": {},
   "source": [
    "##### Assinging float"
   ]
  },
  {
   "cell_type": "code",
   "execution_count": null,
   "metadata": {},
   "outputs": [],
   "source": [
    "my_float_number = 5.67\n",
    "\n",
    "print(my_float_number)\n",
    "print(type(my_float_number))"
   ]
  },
  {
   "cell_type": "code",
   "execution_count": null,
   "metadata": {},
   "outputs": [],
   "source": [
    "# The decimal (.) that is doing the heavy lifting - tells Python that is a float\n",
    "\n",
    "another_float = 6\n",
    "\n",
    "print(another_float)\n",
    "print(type(another_float))"
   ]
  },
  {
   "cell_type": "markdown",
   "metadata": {},
   "source": [
    "#### Performing Calculations on ints and floats"
   ]
  },
  {
   "cell_type": "markdown",
   "metadata": {},
   "source": [
    "##### Addition"
   ]
  },
  {
   "cell_type": "code",
   "execution_count": null,
   "metadata": {},
   "outputs": [],
   "source": [
    "# Use the plus operator (+)\n",
    "\n",
    "num1 = 43\n",
    "num2 = 21\n",
    "\n",
    "# int + int -> int\n",
    "# int + float -> float\n",
    "# float + float -> float\n",
    "\n",
    "result = num1 + num2\n",
    "\n",
    "print(result)\n",
    "print(type(result))"
   ]
  },
  {
   "cell_type": "code",
   "execution_count": null,
   "metadata": {},
   "outputs": [],
   "source": [
    "num1 = 2\n",
    "num2 = 5\n",
    "\n",
    "result = num1 + num2\n",
    "\n",
    "result += 15 # result + 15\n",
    "\n",
    "print(result)"
   ]
  },
  {
   "cell_type": "code",
   "execution_count": null,
   "metadata": {},
   "outputs": [],
   "source": [
    "x = 10\n",
    "\n",
    "x += 5 # x = x + 5\n",
    "\n",
    "print(x)"
   ]
  },
  {
   "cell_type": "markdown",
   "metadata": {},
   "source": [
    "##### Subtraction"
   ]
  },
  {
   "cell_type": "code",
   "execution_count": null,
   "metadata": {},
   "outputs": [],
   "source": [
    "# Use the minus operator (-)\n",
    "\n",
    "difference = num1 - num2 \n",
    "print(difference)\n",
    "print(type(difference))\n",
    "\n",
    "# Assignment operator (-=)\n",
    "\n",
    "difference -= 5 # differecne = difference - 5\n",
    "print(difference)"
   ]
  },
  {
   "cell_type": "markdown",
   "metadata": {},
   "source": [
    "##### Multiplication"
   ]
  },
  {
   "cell_type": "code",
   "execution_count": null,
   "metadata": {},
   "outputs": [],
   "source": [
    "# Uses the asterisk or start (*)\n",
    "\n",
    "product = 12 * 7\n",
    "\n",
    "print(product)\n",
    "print(type(product))\n",
    "\n",
    "\n",
    "# Assignment operator (*=)\n",
    "\n",
    "product *= 2 # product = product * 2\n",
    "\n",
    "print(product)"
   ]
  },
  {
   "cell_type": "markdown",
   "metadata": {},
   "source": [
    "##### Division"
   ]
  },
  {
   "cell_type": "code",
   "execution_count": null,
   "metadata": {},
   "outputs": [],
   "source": [
    "# Use the forward slash (/)\n",
    "\n",
    "# ALWAYS RESULTS IN A FLOAT\n",
    "\n",
    "num3 = 50 \n",
    "num4 = 5\n",
    "\n",
    "quotient = num3 / num4\n",
    "\n",
    "print(quotient)\n",
    "print(type(quotient))\n",
    "\n",
    "#Assignment operator (/=)\n",
    "quotient /= 4 #quotient = quotient /4\n",
    "\n",
    "print(quotient)"
   ]
  },
  {
   "cell_type": "markdown",
   "metadata": {},
   "source": [
    "##### Floor Division"
   ]
  },
  {
   "cell_type": "code",
   "execution_count": null,
   "metadata": {},
   "outputs": [],
   "source": [
    "# Sometimes also reffered to as Integer Divisiom \n",
    "\n",
    "# Floor is defined as the highest integer that is less than or equal to the value\n",
    "\n",
    "result_normal = 15/4 \n",
    "print(result_normal)\n",
    "\n",
    "# Use the double slash (//)\n",
    "result_floor = 15 // 4\n",
    "print(result_floor)\n",
    "\n",
    "\n",
    "# Assignment operator (//=)\n",
    "\n",
    "result_floor //= 2 # result_floor = result_floor //2\n",
    "print(result_floor)"
   ]
  },
  {
   "cell_type": "markdown",
   "metadata": {},
   "source": [
    "##### Modulo"
   ]
  },
  {
   "cell_type": "code",
   "execution_count": null,
   "metadata": {},
   "outputs": [],
   "source": [
    "# Use the percent operator (%)\n",
    "# will return the REMAINDER of a division problem\n",
    "\n",
    "num5 = 58\n",
    "num6 = 5\n",
    "\n",
    "result_mod = num5 % num6\n",
    "print(result_mod)\n",
    "\n",
    "#Assignment Operator (%=)\n",
    "result_mod %= 2 # result_mod = result_mod % 2\n",
    "print(result_mod)"
   ]
  },
  {
   "cell_type": "code",
   "execution_count": null,
   "metadata": {},
   "outputs": [],
   "source": [
    "# determining if a number is even or odd\n",
    "\n",
    "# If a number is even, number % 2 == 0 \n",
    "# If a number is odd, number % 2 != 0 \n",
    "\n",
    "some_number = 56\n",
    "\n",
    "print(some_number % 2)\n"
   ]
  },
  {
   "cell_type": "markdown",
   "metadata": {},
   "source": [
    "##### Exponential"
   ]
  },
  {
   "cell_type": "code",
   "execution_count": null,
   "metadata": {},
   "outputs": [],
   "source": [
    "# Use the double-asterik (**)\n",
    "\n",
    "\n",
    "num7 = 5 \n",
    "num8 = 4\n",
    "\n",
    "exponent = num7 ** num8\n",
    "print(exponent)\n",
    "\n",
    "#Assignment operator (**=)\n",
    "\n",
    "exponent **= 2  # exponent = exponent **2\n",
    "print(exponent)\n"
   ]
  },
  {
   "cell_type": "markdown",
   "metadata": {},
   "source": [
    "### String Input-Output"
   ]
  },
  {
   "cell_type": "markdown",
   "metadata": {},
   "source": [
    "##### String Assignment"
   ]
  },
  {
   "cell_type": "code",
   "execution_count": null,
   "metadata": {},
   "outputs": [],
   "source": [
    "# variable_name = 'string' - quotation marks (\" or ') tell Python that it is a string\n",
    "\n",
    "first_name = 'Kadeeja'\n",
    "\n",
    "print(first_name)\n",
    "print(type(first_name))"
   ]
  },
  {
   "cell_type": "code",
   "execution_count": null,
   "metadata": {},
   "outputs": [],
   "source": [
    "# Quotation marks are necessary! \n",
    "\n",
    "wrong = astring\n",
    "\n",
    "# Python thinks that we are setting a variable 'wrong' equal to what the value for \n",
    "# the variable 'astring' does not exist"
   ]
  },
  {
   "cell_type": "code",
   "execution_count": 372,
   "metadata": {},
   "outputs": [
    {
     "ename": "TypeError",
     "evalue": "'str' object is not callable",
     "output_type": "error",
     "traceback": [
      "\u001b[0;31m---------------------------------------------------------------------------\u001b[0m",
      "\u001b[0;31mTypeError\u001b[0m                                 Traceback (most recent call last)",
      "\u001b[1;32m/Users/kadeejagriffin/Kekembas_137/week2/day1/Monday_Lesson_Inclass_Lecture.ipynb Cell 34\u001b[0m line \u001b[0;36m4\n\u001b[1;32m      <a href='vscode-notebook-cell:/Users/kadeejagriffin/Kekembas_137/week2/day1/Monday_Lesson_Inclass_Lecture.ipynb#X35sZmlsZQ%3D%3D?line=0'>1</a>\u001b[0m first_name \u001b[39m=\u001b[39m \u001b[39m\"\u001b[39m\u001b[39mKadeeja\u001b[39m\u001b[39m\"\u001b[39m\n\u001b[1;32m      <a href='vscode-notebook-cell:/Users/kadeejagriffin/Kekembas_137/week2/day1/Monday_Lesson_Inclass_Lecture.ipynb#X35sZmlsZQ%3D%3D?line=1'>2</a>\u001b[0m me \u001b[39m=\u001b[39m first_name\n\u001b[0;32m----> <a href='vscode-notebook-cell:/Users/kadeejagriffin/Kekembas_137/week2/day1/Monday_Lesson_Inclass_Lecture.ipynb#X35sZmlsZQ%3D%3D?line=3'>4</a>\u001b[0m \u001b[39mprint\u001b[39;49m(me)\n",
      "\u001b[0;31mTypeError\u001b[0m: 'str' object is not callable"
     ]
    }
   ],
   "source": [
    "first_name = \"Kadeeja\"\n",
    "me = first_name\n",
    "\n",
    "print(me)"
   ]
  },
  {
   "cell_type": "code",
   "execution_count": null,
   "metadata": {},
   "outputs": [],
   "source": []
  },
  {
   "cell_type": "markdown",
   "metadata": {},
   "source": [
    "##### Escape Characters"
   ]
  },
  {
   "cell_type": "code",
   "execution_count": null,
   "metadata": {},
   "outputs": [],
   "source": [
    "contraction1 = (\"You can\\'t do that\")\n",
    "print(contraction1)"
   ]
  },
  {
   "cell_type": "code",
   "execution_count": null,
   "metadata": {},
   "outputs": [],
   "source": [
    "contraction2 = ('You can't do that)\n",
    "print(contraction2)"
   ]
  },
  {
   "cell_type": "code",
   "execution_count": null,
   "metadata": {},
   "outputs": [],
   "source": [
    "#backslash before quotation - read it literally\n",
    "contraction3 = 'You can\\'t do that'\n",
    "print(contraction3)"
   ]
  },
  {
   "cell_type": "code",
   "execution_count": 373,
   "metadata": {},
   "outputs": [
    {
     "ename": "TypeError",
     "evalue": "'str' object is not callable",
     "output_type": "error",
     "traceback": [
      "\u001b[0;31m---------------------------------------------------------------------------\u001b[0m",
      "\u001b[0;31mTypeError\u001b[0m                                 Traceback (most recent call last)",
      "\u001b[1;32m/Users/kadeejagriffin/Kekembas_137/week2/day1/Monday_Lesson_Inclass_Lecture.ipynb Cell 40\u001b[0m line \u001b[0;36m2\n\u001b[1;32m      <a href='vscode-notebook-cell:/Users/kadeejagriffin/Kekembas_137/week2/day1/Monday_Lesson_Inclass_Lecture.ipynb#Y253sZmlsZQ%3D%3D?line=0'>1</a>\u001b[0m quote1 \u001b[39m=\u001b[39m \u001b[39m'\u001b[39m\u001b[39mHe said, \u001b[39m\u001b[39m\"\u001b[39m\u001b[39mhow are you?\u001b[39m\u001b[39m\"\u001b[39m\u001b[39m'\u001b[39m\n\u001b[0;32m----> <a href='vscode-notebook-cell:/Users/kadeejagriffin/Kekembas_137/week2/day1/Monday_Lesson_Inclass_Lecture.ipynb#Y253sZmlsZQ%3D%3D?line=1'>2</a>\u001b[0m \u001b[39mprint\u001b[39;49m(quote1)\n",
      "\u001b[0;31mTypeError\u001b[0m: 'str' object is not callable"
     ]
    }
   ],
   "source": [
    "quote1 = 'He said, \"how are you?\"'\n",
    "print(quote1)"
   ]
  },
  {
   "cell_type": "code",
   "execution_count": null,
   "metadata": {},
   "outputs": [],
   "source": [
    "quote2 = \"He daid, \\\"How are you?\\\"\"\n",
    "print(quote2)"
   ]
  },
  {
   "cell_type": "markdown",
   "metadata": {},
   "source": []
  },
  {
   "cell_type": "code",
   "execution_count": null,
   "metadata": {},
   "outputs": [],
   "source": [
    "#Backslash allows us to write the string on multiple lines and still be read as one line \n",
    "long_string ='Hello how are you \\\n",
    "doing today?'\n",
    "\n",
    "print(long_string)"
   ]
  },
  {
   "cell_type": "code",
   "execution_count": null,
   "metadata": {},
   "outputs": [],
   "source": [
    "# \\n - new line character \n",
    "multi_line = \"Hello\\nHow are you?\"\n",
    "print(multi_line)"
   ]
  },
  {
   "cell_type": "code",
   "execution_count": null,
   "metadata": {},
   "outputs": [],
   "source": [
    "# \\t - tab character \n",
    "tabbed = 'Hello\\tworld'\n",
    "print(tabbed)\n"
   ]
  },
  {
   "cell_type": "code",
   "execution_count": null,
   "metadata": {},
   "outputs": [],
   "source": [
    "letter = \"Dear Friend, \\n\\tI hope you are doing well.\"\n",
    "print(letter)"
   ]
  },
  {
   "cell_type": "code",
   "execution_count": null,
   "metadata": {},
   "outputs": [],
   "source": []
  },
  {
   "cell_type": "markdown",
   "metadata": {},
   "source": [
    "Triple Coated String"
   ]
  },
  {
   "cell_type": "code",
   "execution_count": null,
   "metadata": {},
   "outputs": [],
   "source": [
    "#string that starts and ends with 3 quotations (single or double)\n",
    "#Read line spacing literally\n",
    "\n",
    "triple_again ='''This is the first line\n",
    "This is the second line\n",
    "And this is the final line'''\n",
    "\n",
    "print(triple_again)"
   ]
  },
  {
   "cell_type": "code",
   "execution_count": null,
   "metadata": {},
   "outputs": [],
   "source": [
    "# Raw String - start with r before the quoation marks (r'') or (r\"\"\")\n",
    "# Read string literally - special charachters are not special\n",
    "\n",
    "raw_string = r\"Dear Friend,\\n\\tI hope you are doing well.\"\n",
    "print(raw_string)"
   ]
  },
  {
   "cell_type": "code",
   "execution_count": null,
   "metadata": {},
   "outputs": [],
   "source": [
    "string_number = '123'\n",
    "\n",
    "print(string_number)\n",
    "print(type(string_number))"
   ]
  },
  {
   "cell_type": "markdown",
   "metadata": {},
   "source": [
    "##### String Concatenation"
   ]
  },
  {
   "cell_type": "code",
   "execution_count": null,
   "metadata": {},
   "outputs": [],
   "source": [
    "first = 'John'\n",
    "last = 'Smith'\n",
    "\n",
    "#Plus operator (+) between two string -> reurn a NEW string with the two string combined\n",
    "full = first + ' ' + last\n",
    "print(full)\n",
    "\n",
    "# += works for strings too! \n",
    "full += ', Jr.' #full = full + ' , Jr.'\n",
    "print(full)"
   ]
  },
  {
   "cell_type": "code",
   "execution_count": null,
   "metadata": {},
   "outputs": [],
   "source": [
    "num_a = 10  #integer\n",
    "num_b ='10' #string\n",
    "\n",
    "num_c = num_a + num_b\n",
    "print(num_c)"
   ]
  },
  {
   "cell_type": "markdown",
   "metadata": {},
   "source": [
    "##### Type Conversion"
   ]
  },
  {
   "cell_type": "code",
   "execution_count": null,
   "metadata": {
    "scrolled": true
   },
   "outputs": [],
   "source": [
    "print(num_a, type(num_a))\n",
    "print(num_b, type(num_b))"
   ]
  },
  {
   "cell_type": "code",
   "execution_count": null,
   "metadata": {},
   "outputs": [],
   "source": [
    "# To convert, pass the value into the buit-in type function (usually the name of the class)-> will return a new object\n",
    "# str for string, int for integers, float for floats, ect.\n",
    "\n",
    "num_a_as_int = int(num_a)\n",
    "print(num_a_as_int)\n",
    "print(type(num_a_as_int))\n",
    "\n",
    "# Creates new variable and object -> original value does not change\n",
    "print(num_a, type(num_a))"
   ]
  },
  {
   "cell_type": "code",
   "execution_count": null,
   "metadata": {},
   "outputs": [],
   "source": [
    "num_c = int(num_a) + num_b\n",
    "print(num_c)"
   ]
  },
  {
   "cell_type": "code",
   "execution_count": null,
   "metadata": {},
   "outputs": [],
   "source": [
    "city = 'Chicago'\n",
    "\n",
    "city_int = int(city)"
   ]
  },
  {
   "cell_type": "code",
   "execution_count": null,
   "metadata": {},
   "outputs": [],
   "source": [
    "pi = '3.14'\n",
    "\n",
    "f_pi = float(pi)\n",
    "\n",
    "print(f_pi)"
   ]
  },
  {
   "cell_type": "code",
   "execution_count": null,
   "metadata": {},
   "outputs": [],
   "source": [
    "string_123 = str(123)\n",
    "print(string_123, type(string_123))"
   ]
  },
  {
   "cell_type": "markdown",
   "metadata": {},
   "source": [
    "##### .format() and f-strings"
   ]
  },
  {
   "cell_type": "code",
   "execution_count": null,
   "metadata": {},
   "outputs": [],
   "source": [
    "help(str.format)"
   ]
  },
  {
   "cell_type": "code",
   "execution_count": null,
   "metadata": {},
   "outputs": [],
   "source": [
    "first_name = 'Tom'\n",
    "last_name = 'Brady'\n",
    "city = 'San Francisco'\n",
    "age = 47\n",
    "\n",
    "intro_text = \"Hello, my name {} {} and I am {} years old and I am from {}\" .format(first_name, last_name, age, city)\n",
    "\n",
    "print(intro_text)\n"
   ]
  },
  {
   "cell_type": "code",
   "execution_count": null,
   "metadata": {},
   "outputs": [],
   "source": [
    "# f-string - another way of formatting a string -> used curly braces with a variable name in them\n",
    "# and a lowercase f before the string (f'') or (f\"\"\")\n",
    "\n",
    "intro_text2 = f\"Hello, my name is {first_name} and I am {age} years old and I am from {city}\" \n",
    "\n",
    "print(intro_text2)"
   ]
  },
  {
   "cell_type": "code",
   "execution_count": null,
   "metadata": {},
   "outputs": [],
   "source": [
    "# .format and f-string allows us to run expression for format our string\n",
    "\n",
    "add_age1 = f\"Hello, I am {first_name.upper()} and in 5 years I will be {age + 5}\"\n",
    "print(add_age1)\n",
    "\n",
    "add_age2 = \"Hello, I am {} and in 5 years I will be {}\" .format(first_name.upper(), age + 5)\n",
    "print(add_age2)\n"
   ]
  },
  {
   "cell_type": "markdown",
   "metadata": {},
   "source": [
    "##### Old Way (python 2)"
   ]
  },
  {
   "cell_type": "code",
   "execution_count": null,
   "metadata": {},
   "outputs": [],
   "source": [
    "first_name = 'John'\n",
    "city = 'New York'\n",
    "\n",
    "print(f\"Hello my name is %s and I am from %s\" % (first_name, city))"
   ]
  },
  {
   "cell_type": "code",
   "execution_count": null,
   "metadata": {
    "scrolled": true
   },
   "outputs": [],
   "source": [
    "result = 10 + 5 \n",
    "\n",
    "print(f\"The result is %i\" % result)"
   ]
  },
  {
   "cell_type": "markdown",
   "metadata": {},
   "source": [
    "# In-Class Exercise 1 <br>\n",
    "<p>Increase the year by 1 and then print out the following statement using type conversion and a formatted string</p>"
   ]
  },
  {
   "cell_type": "code",
   "execution_count": null,
   "metadata": {},
   "outputs": [],
   "source": [
    "#OUTPUT:  I drive a blue 2023 Ford Focus.\n",
    "color = 'blue'\n",
    "make = 'Ford'\n",
    "year = '2022'\n",
    "model = 'Focus'\n",
    "\n",
    "year_i = int(year)\n",
    "year_i = year_i + 1\n",
    "\n",
    "what_drive = \"I drive a {} {} {} {}\" .format(color, make, year, model)\n",
    "print(what_drive)\n",
    "\n",
    "my_car = \"I drive a {} {} {} {}\" .format(color, int(year) +1, make, model)"
   ]
  },
  {
   "cell_type": "code",
   "execution_count": null,
   "metadata": {},
   "outputs": [],
   "source": [
    "my_car2 = f\"I drive a {color} {int(year + 1)} {make} {model}\"\n",
    "print(my_car2)"
   ]
  },
  {
   "cell_type": "markdown",
   "metadata": {},
   "source": [
    "### Booleans"
   ]
  },
  {
   "cell_type": "code",
   "execution_count": null,
   "metadata": {},
   "outputs": [],
   "source": [
    "bool_true = True\n",
    "print(bool_true)\n",
    "print(type(bool_true))"
   ]
  },
  {
   "cell_type": "code",
   "execution_count": null,
   "metadata": {},
   "outputs": [],
   "source": [
    "\n",
    "bool_false = False \n",
    "print(bool_false)\n",
    "print(type(bool_false))"
   ]
  },
  {
   "cell_type": "markdown",
   "metadata": {},
   "source": [
    "### If Statements"
   ]
  },
  {
   "cell_type": "code",
   "execution_count": null,
   "metadata": {},
   "outputs": [],
   "source": [
    "# if <expression>:  <expression> must result in a boolean (True or False) or object with (Truthy/Falsy) value\n",
    "#     <statement>\n",
    "\n",
    "#INDENTATION MATTERS\n",
    "# ALL lines that arre indented under the if statment will only run if the expression is true \n",
    "\n",
    "if True: \n",
    "    print('Hello this is a statement that is being run because the If evaluated to Ture')"
   ]
  },
  {
   "cell_type": "code",
   "execution_count": null,
   "metadata": {},
   "outputs": [],
   "source": [
    "if False:\n",
    "    print('Hello this is another statememnt that will print if evaluated to True')"
   ]
  },
  {
   "cell_type": "code",
   "execution_count": null,
   "metadata": {},
   "outputs": [],
   "source": [
    "print('Start code...')\n",
    "\n",
    "if True:\n",
    "    print('Hello')\n",
    "    print('How are you?')\n",
    "\n",
    "print('End code..')"
   ]
  },
  {
   "cell_type": "code",
   "execution_count": null,
   "metadata": {},
   "outputs": [],
   "source": [
    "# Available operators: Greater(>), Less(<), Equal(==)\n",
    "# Greater or Equal(>=), Less or Equal (<=), Not Equal (!=)\n",
    "# Return value is a Boolean (True or False)\n",
    "\n",
    "num1 = 10\n",
    "num2 = 5 \n",
    "num3 = 2\n",
    "\n",
    "print(num1 > num2)\n",
    "print(num2 < num3)\n",
    "print(num1 == num2 * num3)\n",
    "print(num1 >= num2 * num3)\n",
    "print(num1 != num2 * num3)"
   ]
  },
  {
   "cell_type": "code",
   "execution_count": null,
   "metadata": {},
   "outputs": [],
   "source": [
    "if num1 > num2: #True \n",
    "    print(f\"{num1} is greater that {num2}\")\n",
    "\n",
    "if num2 < num3: #False\n",
    "    print(f\"{num2} is less than {num3}\")\n",
    "\n",
    "if num1 >= num2 * num3: #True\n",
    "    print(f\"{num1} is greater than or equal to {num2} times {num3}\")\n"
   ]
  },
  {
   "cell_type": "markdown",
   "metadata": {},
   "source": [
    "## Using 'and'/'or' with If Statements"
   ]
  },
  {
   "cell_type": "code",
   "execution_count": null,
   "metadata": {},
   "outputs": [],
   "source": [
    "# Truth Tree for OR:\n",
    "# T or T = T\n",
    "# T or F = T\n",
    "# F or T = T\n",
    "# F or F = F\n",
    "\n",
    "# To pass through to the next round, a students needs at lease a 2.5 GPA or at least a 25 ACT\n",
    "\n",
    "potential_candidate_gpa = 1.0\n",
    "potential_candidate_act = 16\n",
    "\n",
    "# Logic for passing a student \n",
    "if potential_candidate_gpa >= 2.5 or potential_candidate_act >= 25:\n",
    "    print('Student meets minimum requirements. Move on to the next round...')\n",
    "else:\n",
    "    print('Reject student...')"
   ]
  },
  {
   "cell_type": "code",
   "execution_count": null,
   "metadata": {},
   "outputs": [],
   "source": []
  },
  {
   "cell_type": "code",
   "execution_count": null,
   "metadata": {},
   "outputs": [],
   "source": [
    "# Truth Tree for AND\n",
    "# T and T = T\n",
    "# T and F = F\n",
    "# F and T = F\n",
    "# F and F = F\n",
    "\n",
    "# To pass through to the next round, a students needs at lease a 2.5 GPA or at least a 25 ACT\n",
    "\n",
    "potential_candidate_gpa = 4.0\n",
    "potential_candidate_act = 36\n",
    "\n",
    "# Logic for passing a student \n",
    "if potential_candidate_gpa >= 2.5 and potential_candidate_act >= 25:\n",
    "    print('Student meets minimum requirements. Move on to the next round...')\n",
    "else:\n",
    "    print('Reject student...')"
   ]
  },
  {
   "cell_type": "code",
   "execution_count": null,
   "metadata": {},
   "outputs": [],
   "source": [
    "number = 5 \n",
    "\n",
    "if number == 1 or number == 7:\n",
    "    print('The number is 1 or 7')\n",
    "else:\n",
    "    print(f\"Not 1 or 7, the number is {number}\")"
   ]
  },
  {
   "cell_type": "code",
   "execution_count": null,
   "metadata": {},
   "outputs": [],
   "source": [
    "number = 10 \n",
    "\n"
   ]
  },
  {
   "cell_type": "markdown",
   "metadata": {},
   "source": [
    "### Else Statements"
   ]
  },
  {
   "cell_type": "code",
   "execution_count": null,
   "metadata": {},
   "outputs": [],
   "source": [
    "# An else statement runs when the if statement DIRECTLY above it evaluates to False\n",
    "\n",
    "age = 44\n",
    "\n",
    "if age >= 35:\n",
    "    print('You are eligible to run for president')\n",
    "\n",
    "if age >= 18:\n",
    "    print('You are eligible to vote')\n",
    "else:\n",
    "    print('You are still too young to vote')"
   ]
  },
  {
   "cell_type": "markdown",
   "metadata": {},
   "source": [
    "### Elif Statements"
   ]
  },
  {
   "cell_type": "code",
   "execution_count": null,
   "metadata": {},
   "outputs": [],
   "source": [
    "# An elif only runs when the if (or elif) directly above it evaluates to False\n",
    "\n",
    "#Pretend we are checking tickets for a movie theatre for an R-Rated movie\n",
    "#If the movie goer is above 18, just say thanks and enjoy the show\n",
    "#If the movie goer is above 14, check if they have a parent with them, can see if so\n",
    "#no movie goers under 14 or under 18 wihtout a parent \n",
    "\n",
    "# rules for entry \n",
    "required_age = 18\n",
    "with_parent_age = 14\n",
    "\n",
    "#Customer Info\n",
    "customer_age = 15\n",
    "has_parent = False\n",
    "\n",
    "if customer_age >= required_age:\n",
    "    print('Thanks and enjoy the show!')\n",
    "\n",
    "elif customer_age >= with_parent_age and has_parent:\n",
    "    print('Cool, enjoy the movie with the folks!')\n",
    "\n",
    "elif customer_age >= with_parent_age and not has_parent:\n",
    "    print('You are old enough to see with a parent, but I do not see one here.')\n",
    "\n",
    "else:\n",
    "    print('You cannot see this film until you are older.')\n",
    "\n",
    "\n",
    "\n"
   ]
  },
  {
   "cell_type": "code",
   "execution_count": null,
   "metadata": {},
   "outputs": [],
   "source": [
    "age = 10 \n",
    "if age < 18: \n",
    "    drink_choice = 'toddy'\n",
    "elif age < 21:\n",
    "    drink_choice = 'coke'\n",
    "elif age < 50:\n",
    "    drink_choice = 'beer'\n",
    "else:\n",
    "    drink_choice = 'whiskey'\n",
    "\n",
    "    \n",
    "print(f\"Drink{drink_choice}\")"
   ]
  },
  {
   "cell_type": "markdown",
   "metadata": {},
   "source": [
    "### In-Class Exercise 2 <br>\n",
    "<p>Write a program that will check a person's age and adjust the ticket price. Regular ticket price is $10. Seniors (65+) get 25 percent off and children (under 0-9) are half off. Print out the ticket price at the end</p>"
   ]
  },
  {
   "cell_type": "code",
   "execution_count": null,
   "metadata": {},
   "outputs": [],
   "source": [
    "\n",
    "ticket = 10\n",
    "# person_age = 72 # Output: Your ticket is $7.50\n",
    "person_age = 47 # Output: Your ticket is $10\n",
    "#person_age = 8 # Output: Your ticket is $5.00\n",
    "\n",
    "if person_age < 10:\n",
    "    ticket *= .5 # ticket = ticket * .5\n",
    "elif person_age >= 65:\n",
    "    ticket *= (1-.25)\n",
    "\n",
    "print(f\"Your ticket is ${ticket:.2f}\") # :.2f will add two decimals\n",
    "\n",
    "\n"
   ]
  },
  {
   "cell_type": "markdown",
   "metadata": {},
   "source": [
    "### Lists"
   ]
  },
  {
   "cell_type": "markdown",
   "metadata": {},
   "source": [
    "##### Declaring Lists"
   ]
  },
  {
   "cell_type": "code",
   "execution_count": null,
   "metadata": {},
   "outputs": [],
   "source": [
    "# Ordered collection of data; indexable, mutable, iterable, elements of the list can be of any dtat type\n",
    "list_1 =[] # Empty list declaration\n",
    "\n",
    "print(list_1)\n",
    "print(type(list_1))"
   ]
  },
  {
   "cell_type": "code",
   "execution_count": null,
   "metadata": {},
   "outputs": [],
   "source": [
    "names = ['Dan', 'Catherine', 'William', 'Laura', 'Hannah', 'Jack']\n",
    "print(names)\n",
    "print(type(names))\n"
   ]
  },
  {
   "cell_type": "markdown",
   "metadata": {},
   "source": [
    "##### Indexing a List"
   ]
  },
  {
   "cell_type": "code",
   "execution_count": null,
   "metadata": {},
   "outputs": [],
   "source": [
    "# [start: stop: step] \n",
    "# 0-based index (indices will always start at 0 -> Length of list -1)\n",
    "#Makes a copy, original list is unaffected \n",
    "\n",
    "#single element - list_var[index]\n",
    "print(names[3])\n",
    "\n",
    "# Negative numbers start from the back of the list \n",
    "print(names[-2])\n",
    "\n",
    "#Slicing a list -> grabbing part of a list \n",
    "\n",
    "#slice the list from the 2nd element to the end (leave the stop empty will default to the end of the list)\n",
    "print(names[1:])\n",
    "\n",
    "#Slice the lost form teh 2nd element to teh 5th element\n",
    "print(names[1:5])\n",
    "\n",
    "#Slice from the beginning of the list to teh 4th element (leave start emoty to start at beginning)\n",
    "print(names[:4])\n",
    "\n",
    "print(names)\n",
    "\n",
    "#Slice the whole list - an easy way to make a copy of the list \n",
    "print(names[:])\n",
    "\n",
    "# Slice every other element in the list\n",
    "print(names[::2])\n",
    "\n",
    "#Negatice steps will walk backwards through the list - an easy way to reversed copy of a list\n",
    "print(names[::-1])\n",
    "\n",
    "#combo time!\n",
    "print(names[1:5:2])"
   ]
  },
  {
   "cell_type": "code",
   "execution_count": null,
   "metadata": {},
   "outputs": [],
   "source": [
    "# Lists are mutable - means you can change the values using item assignment\n",
    "# item assignment - list-var[Index] = value\n",
    "\n",
    "print(names)\n",
    "\n",
    "names[2] = 'Billy'\n",
    "\n",
    "print(names)"
   ]
  },
  {
   "cell_type": "code",
   "execution_count": null,
   "metadata": {},
   "outputs": [],
   "source": [
    "# Strings are IMMUTABLE \n",
    "# But they are indexable\n",
    "\n",
    "my_string = 'Hello World'\n",
    "print(my_string)\n",
    "\n",
    "print(my_string[0])\n",
    "\n",
    "my_string[0] = 'J'\n",
    "print(my_string)"
   ]
  },
  {
   "cell_type": "markdown",
   "metadata": {},
   "source": [
    "##### .append()"
   ]
  },
  {
   "cell_type": "code",
   "execution_count": null,
   "metadata": {},
   "outputs": [],
   "source": [
    "# list_var.append(value) -> Add the balue to the end of the list \n",
    "\n",
    "print(names)\n",
    "\n",
    "names.append('Sarah')"
   ]
  },
  {
   "cell_type": "markdown",
   "metadata": {},
   "source": [
    "##### .insert()"
   ]
  },
  {
   "cell_type": "code",
   "execution_count": null,
   "metadata": {},
   "outputs": [],
   "source": [
    "# list_var.insert(index,value) -> Add the value at the index and shift everything afte to the right 1 index\n",
    "\n",
    "print(names)\n",
    "\n",
    "names.insert(2, 'Julian')\n",
    "\n",
    "print(names)\n"
   ]
  },
  {
   "cell_type": "markdown",
   "metadata": {},
   "source": [
    "##### .pop()"
   ]
  },
  {
   "cell_type": "code",
   "execution_count": null,
   "metadata": {},
   "outputs": [],
   "source": [
    "\n",
    "# list_var.pop() -> If no argument, pop removed and returns the last element of the list\n",
    "\n",
    "print(names)\n",
    "\n",
    "last_element = names.pop()\n",
    "\n",
    "print(f\"The element that was removed: {last_element}\")\n",
    "\n",
    "\n",
    "\n",
    "\n",
    "# default is the last value if no parameter is given\n",
    "# pop returns the element that was removed in case you want to assign it into a variable\n",
    "\n"
   ]
  },
  {
   "cell_type": "markdown",
   "metadata": {},
   "source": [
    "\n",
    "##### .remove()"
   ]
  },
  {
   "cell_type": "code",
   "execution_count": null,
   "metadata": {},
   "outputs": [],
   "source": [
    "# value to be removed, not index\n",
    "# list_var.remove(value) -> will remove the FIRST insatnce of that value\n",
    "\n",
    "names.remove('Billy')\n",
    "\n",
    "print(names)"
   ]
  },
  {
   "cell_type": "code",
   "execution_count": null,
   "metadata": {},
   "outputs": [],
   "source": [
    "# list_var.pop(index) -> will remove the element at index and return that itemaa"
   ]
  },
  {
   "cell_type": "code",
   "execution_count": null,
   "metadata": {},
   "outputs": [],
   "source": [
    "# value to be removed , not index\n"
   ]
  },
  {
   "cell_type": "markdown",
   "metadata": {},
   "source": [
    "##### del()"
   ]
  },
  {
   "cell_type": "code",
   "execution_count": null,
   "metadata": {},
   "outputs": [],
   "source": [
    "# del list_var[index]\n",
    "# index to be removed, not value\n",
    "# BE CAREFUL with del, can cause indexing errors if not used carefully\n",
    "\n",
    "print(names)\n",
    "\n",
    "del names[2]\n",
    "\n",
    "print(names)\n"
   ]
  },
  {
   "cell_type": "markdown",
   "metadata": {},
   "source": [
    "##### Concatenating Two Lists"
   ]
  },
  {
   "cell_type": "code",
   "execution_count": null,
   "metadata": {},
   "outputs": [],
   "source": [
    "# Plus operator (+) between two list will append two list together, not add up the elements of each list\n",
    "\n",
    "list_a = [1, 2, 3, 4]\n",
    "list_b = [5, 6, 7, 8]\n",
    "\n",
    "list_c = list_a + list_b\n",
    "\n",
    "print(list_c)\n",
    "\n",
    "# will append two lists together, not add up the elements in each list\n",
    "\n"
   ]
  },
  {
   "cell_type": "markdown",
   "metadata": {},
   "source": [
    "##### Lists Within Lists"
   ]
  },
  {
   "cell_type": "code",
   "execution_count": null,
   "metadata": {},
   "outputs": [],
   "source": [
    "# Lists are able to hold any type of element, including OTHER lists themsevles\n",
    "# they can also go as deep as you want, having many lists nested inside of each other\n",
    "\n",
    "list_of_list = [[1, 2, 3, 4, 5 ,6][7, 8, 9]]"
   ]
  },
  {
   "cell_type": "markdown",
   "metadata": {},
   "source": [
    "### For Loops"
   ]
  },
  {
   "cell_type": "code",
   "execution_count": null,
   "metadata": {},
   "outputs": [],
   "source": [
    "# for <keyword> in <iterable>:\n",
    "#     <statement>\n"
   ]
  },
  {
   "cell_type": "code",
   "execution_count": null,
   "metadata": {},
   "outputs": [],
   "source": []
  },
  {
   "cell_type": "markdown",
   "metadata": {},
   "source": [
    "##### Continue Statement"
   ]
  },
  {
   "cell_type": "code",
   "execution_count": null,
   "metadata": {},
   "outputs": [],
   "source": [
    "# will continue to next iteration"
   ]
  },
  {
   "cell_type": "code",
   "execution_count": null,
   "metadata": {},
   "outputs": [],
   "source": []
  },
  {
   "cell_type": "markdown",
   "metadata": {},
   "source": [
    "##### Break Statement"
   ]
  },
  {
   "cell_type": "code",
   "execution_count": null,
   "metadata": {},
   "outputs": [],
   "source": [
    "# will break out of current loop"
   ]
  },
  {
   "cell_type": "code",
   "execution_count": null,
   "metadata": {},
   "outputs": [],
   "source": []
  },
  {
   "cell_type": "markdown",
   "metadata": {},
   "source": [
    "##### Pass Statement"
   ]
  },
  {
   "cell_type": "code",
   "execution_count": null,
   "metadata": {},
   "outputs": [],
   "source": [
    "# mostly used as a placeholder, and will continue on same iteration"
   ]
  },
  {
   "cell_type": "code",
   "execution_count": null,
   "metadata": {},
   "outputs": [],
   "source": []
  },
  {
   "cell_type": "markdown",
   "metadata": {},
   "source": [
    "##### Nested/Double For Loops"
   ]
  },
  {
   "cell_type": "code",
   "execution_count": null,
   "metadata": {},
   "outputs": [],
   "source": []
  },
  {
   "cell_type": "markdown",
   "metadata": {},
   "source": [
    "### While Loops"
   ]
  },
  {
   "cell_type": "code",
   "execution_count": null,
   "metadata": {},
   "outputs": [],
   "source": [
    "# while <conditional>:\n",
    "#     <statement to run while condition is true>\n",
    "\n",
    "from random import randint\n",
    "\n",
    "random_number = randint(1,10)\n",
    "while random_number !=5:\n",
    "    print(random_number)\n",
    "    random_number = randint(1,10)\n",
    "\n",
    "print(f'The final result:{random_number}')\n"
   ]
  },
  {
   "cell_type": "markdown",
   "metadata": {},
   "source": [
    "##### Looping 'While True'"
   ]
  },
  {
   "cell_type": "code",
   "execution_count": null,
   "metadata": {},
   "outputs": [],
   "source": []
  },
  {
   "cell_type": "markdown",
   "metadata": {},
   "source": [
    "### Built-In Functions"
   ]
  },
  {
   "cell_type": "markdown",
   "metadata": {},
   "source": [
    "##### input()"
   ]
  },
  {
   "cell_type": "code",
   "execution_count": null,
   "metadata": {},
   "outputs": [],
   "source": [
    "# input(question) => ALWAYS RETURNS A STRING\n"
   ]
  },
  {
   "cell_type": "code",
   "execution_count": null,
   "metadata": {},
   "outputs": [],
   "source": []
  },
  {
   "cell_type": "markdown",
   "metadata": {},
   "source": [
    "##### range()"
   ]
  },
  {
   "cell_type": "code",
   "execution_count": null,
   "metadata": {},
   "outputs": [],
   "source": [
    "#Start, Stop, Step\n"
   ]
  },
  {
   "cell_type": "markdown",
   "metadata": {},
   "source": [
    "##### len()"
   ]
  },
  {
   "cell_type": "code",
   "execution_count": null,
   "metadata": {},
   "outputs": [],
   "source": [
    "# check Length of variable\n"
   ]
  },
  {
   "cell_type": "code",
   "execution_count": null,
   "metadata": {},
   "outputs": [],
   "source": []
  },
  {
   "cell_type": "markdown",
   "metadata": {},
   "source": [
    "##### help()"
   ]
  },
  {
   "cell_type": "code",
   "execution_count": null,
   "metadata": {},
   "outputs": [],
   "source": [
    "# Use this function to view more info about a python function (With a DOCSTRING)\n"
   ]
  },
  {
   "cell_type": "markdown",
   "metadata": {},
   "source": [
    "##### isinstance()"
   ]
  },
  {
   "cell_type": "code",
   "execution_count": null,
   "metadata": {},
   "outputs": [],
   "source": [
    "# Check a variable to find out what Object family it belongs to\n",
    "# isinstace(var, type)\n"
   ]
  },
  {
   "cell_type": "markdown",
   "metadata": {},
   "source": [
    "##### Looping Through Lists"
   ]
  },
  {
   "cell_type": "code",
   "execution_count": null,
   "metadata": {},
   "outputs": [],
   "source": [
    "# two ways to loop through a list, using range for index and in for values\n",
    "\n",
    "# Loop with a for loop (By Index)\n",
    "\n",
    "    \n",
    "# Loop with a for loop (Using the 'in' keyword)\n",
    "\n"
   ]
  },
  {
   "cell_type": "markdown",
   "metadata": {},
   "source": [
    "## Exercise #1 <br>\n",
    "<p>Cube Number Test... Print out all cubed numbers up to the total value 1000. Meaning that if the cubed number is over 1000 break the loop.</p>"
   ]
  },
  {
   "cell_type": "code",
   "execution_count": null,
   "metadata": {},
   "outputs": [],
   "source": [
    "list_num = []\n",
    "# while loop \n"
   ]
  },
  {
   "cell_type": "markdown",
   "metadata": {},
   "source": [
    "## Exercise #2 <br>\n",
    "<p>Get first prime numbers up to 100</p>"
   ]
  },
  {
   "cell_type": "code",
   "execution_count": null,
   "metadata": {},
   "outputs": [],
   "source": [
    "# HINT::\n",
    "# An else after an if runs if the if didn’t\n",
    "# An else after a for runs if the for didn’t break\n",
    "\n",
    "if 10 > 1000:\n",
    "    print('Hello')\n",
    "\n",
    "else:\n",
    "    print('Goodbye')\n",
    "\n"
   ]
  },
  {
   "cell_type": "markdown",
   "metadata": {},
   "source": [
    "# Exercise 3 <br>\n",
    "<p>Take in a users input for their age, if they are younger than 18 print kids, if they're 18 to 65 print adults, else print seniors</p>"
   ]
  },
  {
   "cell_type": "code",
   "execution_count": null,
   "metadata": {},
   "outputs": [],
   "source": []
  }
 ],
 "metadata": {
  "kernelspec": {
   "display_name": "Python 3 (ipykernel)",
   "language": "python",
   "name": "python3"
  },
  "language_info": {
   "codemirror_mode": {
    "name": "ipython",
    "version": 3
   },
   "file_extension": ".py",
   "mimetype": "text/x-python",
   "name": "python",
   "nbconvert_exporter": "python",
   "pygments_lexer": "ipython3",
   "version": "3.11.6"
  }
 },
 "nbformat": 4,
 "nbformat_minor": 2
}
